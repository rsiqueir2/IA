{
 "cells": [
  {
   "cell_type": "markdown",
   "metadata": {},
   "source": [
    "## Câncer de Mama ##\n",
    "\n",
    "- Qual o percentual de acertividade: -1.05\n",
    "- Qual a informação mais importante para diagnosticar o câncer: concavity_worst ou symmetry_worst"
   ]
  },
  {
   "cell_type": "code",
   "execution_count": 1,
   "metadata": {},
   "outputs": [],
   "source": [
    "#Importar as bibliotecas\n",
    "import pandas as pd\n",
    "import numpy as np\n",
    "import matplotlib.pyplot as plt\n",
    "import seaborn as sns\n",
    "%matplotlib inline"
   ]
  },
  {
   "cell_type": "code",
   "execution_count": 2,
   "metadata": {},
   "outputs": [],
   "source": [
    "# importar dataset\n",
    "dfcancer = pd.read_csv('breast_cancer.csv')"
   ]
  },
  {
   "cell_type": "markdown",
   "metadata": {},
   "source": [
    "## Treinar"
   ]
  },
  {
   "cell_type": "code",
   "execution_count": 3,
   "metadata": {},
   "outputs": [
    {
     "data": {
      "text/plain": [
       "Index(['id', 'diagnosis', 'radius_mean', 'texture_mean', 'perimeter_mean',\n",
       "       'area_mean', 'smoothness_mean', 'compactness_mean', 'concavity_mean',\n",
       "       'concave points_mean', 'symmetry_mean', 'fractal_dimension_mean',\n",
       "       'radius_se', 'texture_se', 'perimeter_se', 'area_se', 'smoothness_se',\n",
       "       'compactness_se', 'concavity_se', 'concave points_se', 'symmetry_se',\n",
       "       'fractal_dimension_se', 'radius_worst', 'texture_worst',\n",
       "       'perimeter_worst', 'area_worst', 'smoothness_worst',\n",
       "       'compactness_worst', 'concavity_worst', 'concave points_worst',\n",
       "       'symmetry_worst', 'fractal_dimension_worst', 'Unnamed: 32'],\n",
       "      dtype='object')"
      ]
     },
     "execution_count": 3,
     "metadata": {},
     "output_type": "execute_result"
    }
   ],
   "source": [
    "dfcancer.columns"
   ]
  },
  {
   "cell_type": "code",
   "execution_count": 4,
   "metadata": {},
   "outputs": [
    {
     "name": "stdout",
     "output_type": "stream",
     "text": [
      "<class 'pandas.core.frame.DataFrame'>\n",
      "RangeIndex: 569 entries, 0 to 568\n",
      "Data columns (total 33 columns):\n",
      "id                         569 non-null int64\n",
      "diagnosis                  569 non-null object\n",
      "radius_mean                569 non-null float64\n",
      "texture_mean               569 non-null float64\n",
      "perimeter_mean             569 non-null float64\n",
      "area_mean                  569 non-null float64\n",
      "smoothness_mean            569 non-null float64\n",
      "compactness_mean           569 non-null float64\n",
      "concavity_mean             569 non-null float64\n",
      "concave points_mean        569 non-null float64\n",
      "symmetry_mean              569 non-null float64\n",
      "fractal_dimension_mean     569 non-null float64\n",
      "radius_se                  569 non-null float64\n",
      "texture_se                 569 non-null float64\n",
      "perimeter_se               569 non-null float64\n",
      "area_se                    569 non-null float64\n",
      "smoothness_se              569 non-null float64\n",
      "compactness_se             569 non-null float64\n",
      "concavity_se               569 non-null float64\n",
      "concave points_se          569 non-null float64\n",
      "symmetry_se                569 non-null float64\n",
      "fractal_dimension_se       569 non-null float64\n",
      "radius_worst               569 non-null float64\n",
      "texture_worst              569 non-null float64\n",
      "perimeter_worst            569 non-null float64\n",
      "area_worst                 569 non-null float64\n",
      "smoothness_worst           569 non-null float64\n",
      "compactness_worst          569 non-null float64\n",
      "concavity_worst            569 non-null float64\n",
      "concave points_worst       569 non-null float64\n",
      "symmetry_worst             569 non-null float64\n",
      "fractal_dimension_worst    569 non-null float64\n",
      "Unnamed: 32                0 non-null float64\n",
      "dtypes: float64(31), int64(1), object(1)\n",
      "memory usage: 146.8+ KB\n"
     ]
    }
   ],
   "source": [
    "dfcancer.info()"
   ]
  },
  {
   "cell_type": "code",
   "execution_count": 18,
   "metadata": {},
   "outputs": [],
   "source": [
    "X=dfcancer[['radius_mean', 'texture_mean', 'perimeter_mean',\n",
    "       'area_mean', 'smoothness_mean', 'compactness_mean', 'concavity_mean',\n",
    "       'concave points_mean', 'symmetry_mean', 'fractal_dimension_mean',\n",
    "       'radius_se', 'texture_se', 'perimeter_se', 'area_se', 'smoothness_se',\n",
    "       'compactness_se', 'concavity_se', 'concave points_se', 'symmetry_se',\n",
    "       'fractal_dimension_se', 'radius_worst', 'texture_worst',\n",
    "       'perimeter_worst', 'area_worst', 'smoothness_worst',\n",
    "       'compactness_worst', 'concavity_worst', 'concave points_worst',\n",
    "       'symmetry_worst', 'fractal_dimension_worst']]"
   ]
  },
  {
   "cell_type": "code",
   "execution_count": 19,
   "metadata": {},
   "outputs": [],
   "source": [
    "y=dfcancer[['id']]"
   ]
  },
  {
   "cell_type": "code",
   "execution_count": 20,
   "metadata": {},
   "outputs": [],
   "source": [
    "from sklearn.model_selection import train_test_split\n",
    "X_train, X_test, y_train, y_test = train_test_split(X, y, test_size=0.3, random_state=101)"
   ]
  },
  {
   "cell_type": "code",
   "execution_count": 21,
   "metadata": {},
   "outputs": [],
   "source": [
    "from sklearn.linear_model import LinearRegression\n",
    "r = LinearRegression()"
   ]
  },
  {
   "cell_type": "code",
   "execution_count": 22,
   "metadata": {},
   "outputs": [
    {
     "data": {
      "text/plain": [
       "LinearRegression(copy_X=True, fit_intercept=True, n_jobs=None,\n",
       "         normalize=False)"
      ]
     },
     "execution_count": 22,
     "metadata": {},
     "output_type": "execute_result"
    }
   ],
   "source": [
    "r.fit(X_train,y_train)"
   ]
  },
  {
   "cell_type": "markdown",
   "metadata": {},
   "source": [
    "- Treino OK!"
   ]
  },
  {
   "cell_type": "code",
   "execution_count": 11,
   "metadata": {},
   "outputs": [
    {
     "data": {
      "text/plain": [
       "array([[8.63270000e+05],\n",
       "       [9.09220000e+05],\n",
       "       [8.75878000e+05],\n",
       "       [8.69104000e+05],\n",
       "       [8.94335000e+05],\n",
       "       [8.91923000e+05],\n",
       "       [8.64496000e+05],\n",
       "       [8.78796000e+05],\n",
       "       [8.91050600e+06],\n",
       "       [8.98270000e+04],\n",
       "       [8.86776000e+05],\n",
       "       [8.91205500e+06],\n",
       "       [8.63031000e+05],\n",
       "       [8.57810000e+05],\n",
       "       [8.71120200e+06],\n",
       "       [9.05978000e+05],\n",
       "       [8.65468000e+05],\n",
       "       [8.91072000e+06],\n",
       "       [8.52552000e+05],\n",
       "       [9.02910000e+04],\n",
       "       [8.64018000e+05],\n",
       "       [9.25236000e+05],\n",
       "       [8.57155000e+05],\n",
       "       [9.18465000e+05],\n",
       "       [8.61179200e+06],\n",
       "       [9.11381600e+06],\n",
       "       [8.68826000e+05],\n",
       "       [8.91936000e+05],\n",
       "       [8.64877000e+05],\n",
       "       [9.01383800e+06],\n",
       "       [8.61116100e+06],\n",
       "       [8.44981000e+05],\n",
       "       [9.11345500e+06],\n",
       "       [8.88264000e+05],\n",
       "       [8.91300000e+03],\n",
       "       [9.01011000e+05],\n",
       "       [8.91116300e+06],\n",
       "       [8.55138000e+05],\n",
       "       [8.82061020e+07],\n",
       "       [8.49014000e+05],\n",
       "       [8.77989000e+05],\n",
       "       [8.74373000e+05],\n",
       "       [8.97374000e+05],\n",
       "       [9.15940000e+05],\n",
       "       [8.71642000e+05],\n",
       "       [8.57599020e+07],\n",
       "       [8.59717000e+05],\n",
       "       [8.81435020e+07],\n",
       "       [8.75562020e+07],\n",
       "       [8.99187000e+05],\n",
       "       [9.16799000e+05],\n",
       "       [9.11208500e+06],\n",
       "       [9.01357900e+06],\n",
       "       [9.27241000e+05],\n",
       "       [8.74662000e+05],\n",
       "       [8.95115020e+07],\n",
       "       [8.53826010e+07],\n",
       "       [8.92632020e+07],\n",
       "       [9.01025800e+06],\n",
       "       [9.07696020e+07],\n",
       "       [8.64729000e+05],\n",
       "       [8.86452000e+05],\n",
       "       [9.01149500e+06],\n",
       "       [8.92960000e+04],\n",
       "       [8.86490010e+07],\n",
       "       [8.81472020e+07],\n",
       "       [8.77501000e+05],\n",
       "       [8.42302000e+05],\n",
       "       [8.43584020e+07],\n",
       "       [9.01041000e+05],\n",
       "       [8.91220000e+04],\n",
       "       [8.93526000e+05],\n",
       "       [8.73586000e+05],\n",
       "       [8.74839000e+05],\n",
       "       [8.71180300e+06],\n",
       "       [8.91098800e+06],\n",
       "       [9.02727000e+05],\n",
       "       [8.81094802e+08],\n",
       "       [8.43009030e+07],\n",
       "       [8.91500000e+03],\n",
       "       [9.14366000e+05],\n",
       "       [9.25292000e+05],\n",
       "       [8.91436020e+07],\n",
       "       [8.62485000e+05],\n",
       "       [8.91049900e+06],\n",
       "       [8.71641000e+05],\n",
       "       [8.53612000e+05],\n",
       "       [8.91703000e+05],\n",
       "       [9.11296201e+08],\n",
       "       [9.13535000e+05],\n",
       "       [8.69737010e+07],\n",
       "       [8.62717000e+05],\n",
       "       [8.59223020e+07],\n",
       "       [8.79300000e+04],\n",
       "       [8.62989000e+05],\n",
       "       [9.05539000e+05],\n",
       "       [8.91180000e+06],\n",
       "       [8.66458000e+05],\n",
       "       [8.58986000e+05],\n",
       "       [8.46226000e+05],\n",
       "       [8.83263000e+05],\n",
       "       [9.22577000e+05],\n",
       "       [9.15050000e+04],\n",
       "       [8.94047000e+05],\n",
       "       [9.05501000e+05],\n",
       "       [9.13512000e+05],\n",
       "       [9.13063000e+05],\n",
       "       [9.09231000e+05],\n",
       "       [9.08469000e+05],\n",
       "       [8.51042600e+06],\n",
       "       [8.93988000e+05],\n",
       "       [8.68871000e+05],\n",
       "       [9.14333000e+05],\n",
       "       [8.94326000e+05],\n",
       "       [9.11654000e+05],\n",
       "       [8.66714000e+05],\n",
       "       [8.84448000e+05],\n",
       "       [8.79523000e+05],\n",
       "       [8.48406000e+05],\n",
       "       [8.81184200e+06],\n",
       "       [8.81070300e+06],\n",
       "       [8.54002000e+05],\n",
       "       [9.19304020e+07],\n",
       "       [8.93783000e+05],\n",
       "       [8.61598000e+05],\n",
       "       [8.58970000e+05],\n",
       "       [8.91304900e+06],\n",
       "       [8.94604000e+05],\n",
       "       [9.15452000e+05],\n",
       "       [9.22297000e+05],\n",
       "       [8.73593000e+05],\n",
       "       [8.53401000e+05],\n",
       "       [8.71121600e+06],\n",
       "       [8.96864000e+05],\n",
       "       [9.09446010e+07],\n",
       "       [8.81152300e+06],\n",
       "       [9.01279500e+06],\n",
       "       [8.59283000e+05],\n",
       "       [8.57637000e+05],\n",
       "       [8.64726000e+05],\n",
       "       [9.11353800e+06],\n",
       "       [9.11366000e+05],\n",
       "       [9.06023020e+07],\n",
       "       [9.11320502e+08],\n",
       "       [9.11202000e+05],\n",
       "       [9.11094400e+06],\n",
       "       [9.01087200e+06],\n",
       "       [8.83539000e+05],\n",
       "       [9.21644000e+05],\n",
       "       [8.81312900e+06],\n",
       "       [9.06616000e+05],\n",
       "       [8.74217000e+05],\n",
       "       [8.71630000e+04],\n",
       "       [8.62080000e+04],\n",
       "       [9.15186000e+05],\n",
       "       [8.87549000e+05],\n",
       "       [8.91025100e+06],\n",
       "       [9.14062000e+05],\n",
       "       [8.91074800e+06],\n",
       "       [8.64080000e+04],\n",
       "       [9.19797010e+07],\n",
       "       [9.11159600e+06],\n",
       "       [9.24964000e+05],\n",
       "       [8.95100000e+05],\n",
       "       [8.66203000e+05],\n",
       "       [8.55133000e+05],\n",
       "       [9.06539000e+05],\n",
       "       [8.91183400e+06],\n",
       "       [9.03173020e+07],\n",
       "       [8.61799000e+05],\n",
       "       [8.92189000e+05]])"
      ]
     },
     "execution_count": 11,
     "metadata": {},
     "output_type": "execute_result"
    }
   ],
   "source": [
    "predicao = r.predict(X_test)\n",
    "predicao\n",
    "#Dados previstos"
   ]
  },
  {
   "cell_type": "code",
   "execution_count": 25,
   "metadata": {},
   "outputs": [
    {
     "data": {
      "text/html": [
       "<div>\n",
       "<style scoped>\n",
       "    .dataframe tbody tr th:only-of-type {\n",
       "        vertical-align: middle;\n",
       "    }\n",
       "\n",
       "    .dataframe tbody tr th {\n",
       "        vertical-align: top;\n",
       "    }\n",
       "\n",
       "    .dataframe thead th {\n",
       "        text-align: right;\n",
       "    }\n",
       "</style>\n",
       "<table border=\"1\" class=\"dataframe\">\n",
       "  <thead>\n",
       "    <tr style=\"text-align: right;\">\n",
       "      <th></th>\n",
       "      <th>radius_mean</th>\n",
       "      <th>texture_mean</th>\n",
       "      <th>perimeter_mean</th>\n",
       "      <th>area_mean</th>\n",
       "      <th>smoothness_mean</th>\n",
       "      <th>compactness_mean</th>\n",
       "      <th>concavity_mean</th>\n",
       "      <th>concave points_mean</th>\n",
       "      <th>symmetry_mean</th>\n",
       "      <th>fractal_dimension_mean</th>\n",
       "      <th>...</th>\n",
       "      <th>radius_worst</th>\n",
       "      <th>texture_worst</th>\n",
       "      <th>perimeter_worst</th>\n",
       "      <th>area_worst</th>\n",
       "      <th>smoothness_worst</th>\n",
       "      <th>compactness_worst</th>\n",
       "      <th>concavity_worst</th>\n",
       "      <th>concave points_worst</th>\n",
       "      <th>symmetry_worst</th>\n",
       "      <th>fractal_dimension_worst</th>\n",
       "    </tr>\n",
       "  </thead>\n",
       "  <tbody>\n",
       "    <tr>\n",
       "      <th>107</th>\n",
       "      <td>12.36</td>\n",
       "      <td>18.54</td>\n",
       "      <td>79.01</td>\n",
       "      <td>466.7</td>\n",
       "      <td>0.08477</td>\n",
       "      <td>0.06815</td>\n",
       "      <td>0.02643</td>\n",
       "      <td>0.01921</td>\n",
       "      <td>0.1602</td>\n",
       "      <td>0.06066</td>\n",
       "      <td>...</td>\n",
       "      <td>13.29</td>\n",
       "      <td>27.49</td>\n",
       "      <td>85.56</td>\n",
       "      <td>544.1</td>\n",
       "      <td>0.1184</td>\n",
       "      <td>0.1963</td>\n",
       "      <td>0.1937</td>\n",
       "      <td>0.08442</td>\n",
       "      <td>0.2983</td>\n",
       "      <td>0.07185</td>\n",
       "    </tr>\n",
       "    <tr>\n",
       "      <th>437</th>\n",
       "      <td>14.04</td>\n",
       "      <td>15.98</td>\n",
       "      <td>89.78</td>\n",
       "      <td>611.2</td>\n",
       "      <td>0.08458</td>\n",
       "      <td>0.05895</td>\n",
       "      <td>0.03534</td>\n",
       "      <td>0.02944</td>\n",
       "      <td>0.1714</td>\n",
       "      <td>0.05898</td>\n",
       "      <td>...</td>\n",
       "      <td>15.66</td>\n",
       "      <td>21.58</td>\n",
       "      <td>101.20</td>\n",
       "      <td>750.0</td>\n",
       "      <td>0.1195</td>\n",
       "      <td>0.1252</td>\n",
       "      <td>0.1117</td>\n",
       "      <td>0.07453</td>\n",
       "      <td>0.2725</td>\n",
       "      <td>0.07234</td>\n",
       "    </tr>\n",
       "  </tbody>\n",
       "</table>\n",
       "<p>2 rows × 30 columns</p>\n",
       "</div>"
      ],
      "text/plain": [
       "     radius_mean  texture_mean  perimeter_mean  area_mean  smoothness_mean  \\\n",
       "107        12.36         18.54           79.01      466.7          0.08477   \n",
       "437        14.04         15.98           89.78      611.2          0.08458   \n",
       "\n",
       "     compactness_mean  concavity_mean  concave points_mean  symmetry_mean  \\\n",
       "107           0.06815         0.02643              0.01921         0.1602   \n",
       "437           0.05895         0.03534              0.02944         0.1714   \n",
       "\n",
       "     fractal_dimension_mean           ...             radius_worst  \\\n",
       "107                 0.06066           ...                    13.29   \n",
       "437                 0.05898           ...                    15.66   \n",
       "\n",
       "     texture_worst  perimeter_worst  area_worst  smoothness_worst  \\\n",
       "107          27.49            85.56       544.1            0.1184   \n",
       "437          21.58           101.20       750.0            0.1195   \n",
       "\n",
       "     compactness_worst  concavity_worst  concave points_worst  symmetry_worst  \\\n",
       "107             0.1963           0.1937               0.08442          0.2983   \n",
       "437             0.1252           0.1117               0.07453          0.2725   \n",
       "\n",
       "     fractal_dimension_worst  \n",
       "107                  0.07185  \n",
       "437                  0.07234  \n",
       "\n",
       "[2 rows x 30 columns]"
      ]
     },
     "execution_count": 25,
     "metadata": {},
     "output_type": "execute_result"
    }
   ],
   "source": [
    "#Mostrar os valores em X\n",
    "X_test[:2]"
   ]
  },
  {
   "cell_type": "code",
   "execution_count": 26,
   "metadata": {},
   "outputs": [
    {
     "data": {
      "text/html": [
       "<div>\n",
       "<style scoped>\n",
       "    .dataframe tbody tr th:only-of-type {\n",
       "        vertical-align: middle;\n",
       "    }\n",
       "\n",
       "    .dataframe tbody tr th {\n",
       "        vertical-align: top;\n",
       "    }\n",
       "\n",
       "    .dataframe thead th {\n",
       "        text-align: right;\n",
       "    }\n",
       "</style>\n",
       "<table border=\"1\" class=\"dataframe\">\n",
       "  <thead>\n",
       "    <tr style=\"text-align: right;\">\n",
       "      <th></th>\n",
       "      <th>id</th>\n",
       "    </tr>\n",
       "  </thead>\n",
       "  <tbody>\n",
       "    <tr>\n",
       "      <th>107</th>\n",
       "      <td>863270</td>\n",
       "    </tr>\n",
       "    <tr>\n",
       "      <th>437</th>\n",
       "      <td>909220</td>\n",
       "    </tr>\n",
       "  </tbody>\n",
       "</table>\n",
       "</div>"
      ],
      "text/plain": [
       "         id\n",
       "107  863270\n",
       "437  909220"
      ]
     },
     "execution_count": 26,
     "metadata": {},
     "output_type": "execute_result"
    }
   ],
   "source": [
    "y_test[:2]"
   ]
  },
  {
   "cell_type": "code",
   "execution_count": 34,
   "metadata": {},
   "outputs": [
    {
     "data": {
      "text/plain": [
       "array([[ 8.75457563e+07, -6.49331112e+05, -1.88369014e+07,\n",
       "         5.98875990e+05, -2.27369603e+07,  2.76817082e+08,\n",
       "         3.71921744e+06, -6.15188529e+08,  5.72092967e+08,\n",
       "        -6.25107034e+08, -6.28553414e+08, -3.14912292e+07,\n",
       "         9.02689384e+07,  2.36749762e+06, -5.02382382e+09,\n",
       "        -3.69733461e+09,  5.71684448e+07, -6.98635869e+08,\n",
       "         1.81291395e+09,  1.46029451e+10,  6.69737726e+07,\n",
       "         2.95280603e+06, -1.06020325e+07, -2.37449007e+05,\n",
       "         7.56412225e+08,  5.41609460e+08,  9.34184353e+07,\n",
       "         5.84866197e+07, -4.24542046e+08, -1.99144863e+09]])"
      ]
     },
     "execution_count": 34,
     "metadata": {},
     "output_type": "execute_result"
    }
   ],
   "source": [
    "#Coeficientes\n",
    "r.coef_"
   ]
  },
  {
   "cell_type": "code",
   "execution_count": 36,
   "metadata": {
    "scrolled": true
   },
   "outputs": [
    {
     "data": {
      "text/html": [
       "<div>\n",
       "<style scoped>\n",
       "    .dataframe tbody tr th:only-of-type {\n",
       "        vertical-align: middle;\n",
       "    }\n",
       "\n",
       "    .dataframe tbody tr th {\n",
       "        vertical-align: top;\n",
       "    }\n",
       "\n",
       "    .dataframe thead th {\n",
       "        text-align: right;\n",
       "    }\n",
       "</style>\n",
       "<table border=\"1\" class=\"dataframe\">\n",
       "  <thead>\n",
       "    <tr style=\"text-align: right;\">\n",
       "      <th></th>\n",
       "      <th>Coefficient</th>\n",
       "    </tr>\n",
       "  </thead>\n",
       "  <tbody>\n",
       "    <tr>\n",
       "      <th>radius_mean</th>\n",
       "      <td>8.754576e+07</td>\n",
       "    </tr>\n",
       "    <tr>\n",
       "      <th>texture_mean</th>\n",
       "      <td>-6.493311e+05</td>\n",
       "    </tr>\n",
       "    <tr>\n",
       "      <th>perimeter_mean</th>\n",
       "      <td>-1.883690e+07</td>\n",
       "    </tr>\n",
       "    <tr>\n",
       "      <th>area_mean</th>\n",
       "      <td>5.988760e+05</td>\n",
       "    </tr>\n",
       "    <tr>\n",
       "      <th>smoothness_mean</th>\n",
       "      <td>-2.273696e+07</td>\n",
       "    </tr>\n",
       "    <tr>\n",
       "      <th>compactness_mean</th>\n",
       "      <td>2.768171e+08</td>\n",
       "    </tr>\n",
       "    <tr>\n",
       "      <th>concavity_mean</th>\n",
       "      <td>3.719217e+06</td>\n",
       "    </tr>\n",
       "    <tr>\n",
       "      <th>concave points_mean</th>\n",
       "      <td>-6.151885e+08</td>\n",
       "    </tr>\n",
       "    <tr>\n",
       "      <th>symmetry_mean</th>\n",
       "      <td>5.720930e+08</td>\n",
       "    </tr>\n",
       "    <tr>\n",
       "      <th>fractal_dimension_mean</th>\n",
       "      <td>-6.251070e+08</td>\n",
       "    </tr>\n",
       "    <tr>\n",
       "      <th>radius_se</th>\n",
       "      <td>-6.285534e+08</td>\n",
       "    </tr>\n",
       "    <tr>\n",
       "      <th>texture_se</th>\n",
       "      <td>-3.149123e+07</td>\n",
       "    </tr>\n",
       "    <tr>\n",
       "      <th>perimeter_se</th>\n",
       "      <td>9.026894e+07</td>\n",
       "    </tr>\n",
       "    <tr>\n",
       "      <th>area_se</th>\n",
       "      <td>2.367498e+06</td>\n",
       "    </tr>\n",
       "    <tr>\n",
       "      <th>smoothness_se</th>\n",
       "      <td>-5.023824e+09</td>\n",
       "    </tr>\n",
       "    <tr>\n",
       "      <th>compactness_se</th>\n",
       "      <td>-3.697335e+09</td>\n",
       "    </tr>\n",
       "    <tr>\n",
       "      <th>concavity_se</th>\n",
       "      <td>5.716844e+07</td>\n",
       "    </tr>\n",
       "    <tr>\n",
       "      <th>concave points_se</th>\n",
       "      <td>-6.986359e+08</td>\n",
       "    </tr>\n",
       "    <tr>\n",
       "      <th>symmetry_se</th>\n",
       "      <td>1.812914e+09</td>\n",
       "    </tr>\n",
       "    <tr>\n",
       "      <th>fractal_dimension_se</th>\n",
       "      <td>1.460295e+10</td>\n",
       "    </tr>\n",
       "    <tr>\n",
       "      <th>radius_worst</th>\n",
       "      <td>6.697377e+07</td>\n",
       "    </tr>\n",
       "    <tr>\n",
       "      <th>texture_worst</th>\n",
       "      <td>2.952806e+06</td>\n",
       "    </tr>\n",
       "    <tr>\n",
       "      <th>perimeter_worst</th>\n",
       "      <td>-1.060203e+07</td>\n",
       "    </tr>\n",
       "    <tr>\n",
       "      <th>area_worst</th>\n",
       "      <td>-2.374490e+05</td>\n",
       "    </tr>\n",
       "    <tr>\n",
       "      <th>smoothness_worst</th>\n",
       "      <td>7.564122e+08</td>\n",
       "    </tr>\n",
       "    <tr>\n",
       "      <th>compactness_worst</th>\n",
       "      <td>5.416095e+08</td>\n",
       "    </tr>\n",
       "    <tr>\n",
       "      <th>concavity_worst</th>\n",
       "      <td>9.341844e+07</td>\n",
       "    </tr>\n",
       "    <tr>\n",
       "      <th>concave points_worst</th>\n",
       "      <td>5.848662e+07</td>\n",
       "    </tr>\n",
       "    <tr>\n",
       "      <th>symmetry_worst</th>\n",
       "      <td>-4.245420e+08</td>\n",
       "    </tr>\n",
       "    <tr>\n",
       "      <th>fractal_dimension_worst</th>\n",
       "      <td>-1.991449e+09</td>\n",
       "    </tr>\n",
       "  </tbody>\n",
       "</table>\n",
       "</div>"
      ],
      "text/plain": [
       "                          Coefficient\n",
       "radius_mean              8.754576e+07\n",
       "texture_mean            -6.493311e+05\n",
       "perimeter_mean          -1.883690e+07\n",
       "area_mean                5.988760e+05\n",
       "smoothness_mean         -2.273696e+07\n",
       "compactness_mean         2.768171e+08\n",
       "concavity_mean           3.719217e+06\n",
       "concave points_mean     -6.151885e+08\n",
       "symmetry_mean            5.720930e+08\n",
       "fractal_dimension_mean  -6.251070e+08\n",
       "radius_se               -6.285534e+08\n",
       "texture_se              -3.149123e+07\n",
       "perimeter_se             9.026894e+07\n",
       "area_se                  2.367498e+06\n",
       "smoothness_se           -5.023824e+09\n",
       "compactness_se          -3.697335e+09\n",
       "concavity_se             5.716844e+07\n",
       "concave points_se       -6.986359e+08\n",
       "symmetry_se              1.812914e+09\n",
       "fractal_dimension_se     1.460295e+10\n",
       "radius_worst             6.697377e+07\n",
       "texture_worst            2.952806e+06\n",
       "perimeter_worst         -1.060203e+07\n",
       "area_worst              -2.374490e+05\n",
       "smoothness_worst         7.564122e+08\n",
       "compactness_worst        5.416095e+08\n",
       "concavity_worst          9.341844e+07\n",
       "concave points_worst     5.848662e+07\n",
       "symmetry_worst          -4.245420e+08\n",
       "fractal_dimension_worst -1.991449e+09"
      ]
     },
     "execution_count": 36,
     "metadata": {},
     "output_type": "execute_result"
    }
   ],
   "source": [
    "#coef3 = pd.DataFrame(data=regre.coef_,index=X.columns,columns=['Coefficient'])\n",
    "c= pd.DataFrame(r.coef_[0],X.columns,columns=['Coefficient'])\n",
    "c"
   ]
  },
  {
   "cell_type": "code",
   "execution_count": null,
   "metadata": {},
   "outputs": [],
   "source": [
    "#concavity_worst ou symmetry_worst"
   ]
  },
  {
   "cell_type": "code",
   "execution_count": 39,
   "metadata": {},
   "outputs": [],
   "source": [
    "p = r.predict(X_test)"
   ]
  },
  {
   "cell_type": "code",
   "execution_count": 40,
   "metadata": {},
   "outputs": [
    {
     "name": "stderr",
     "output_type": "stream",
     "text": [
      "C:\\Users\\Raiane\\Anaconda3\\lib\\site-packages\\scipy\\stats\\stats.py:1713: FutureWarning: Using a non-tuple sequence for multidimensional indexing is deprecated; use `arr[tuple(seq)]` instead of `arr[seq]`. In the future this will be interpreted as an array index, `arr[np.array(seq)]`, which will result either in an error or a different result.\n",
      "  return np.add.reduce(sorted[indexer] * weights, axis=axis) / sumval\n"
     ]
    },
    {
     "data": {
      "image/png": "[encoded data removed]",
      "text/plain": [
       "<Figure size 432x288 with 1 Axes>"
      ]
     },
     "metadata": {
      "needs_background": "light"
     },
     "output_type": "display_data"
    }
   ],
   "source": [
    "sns.distplot((y_test-p),bins=50);"
   ]
  },
  {
   "cell_type": "code",
   "execution_count": 41,
   "metadata": {},
   "outputs": [
    {
     "data": {
      "text/plain": [
       "-1.0492177813488408"
      ]
     },
     "execution_count": 41,
     "metadata": {},
     "output_type": "execute_result"
    }
   ],
   "source": [
    "from sklearn.metrics import explained_variance_score\n",
    "explained_variance_score(y_test, p)"
   ]
  },
  {
   "cell_type": "code",
   "execution_count": 42,
   "metadata": {},
   "outputs": [
    {
     "data": {
      "text/plain": [
       "-1.0530868462246148"
      ]
     },
     "execution_count": 42,
     "metadata": {},
     "output_type": "execute_result"
    }
   ],
   "source": [
    "#A melhor pontuação possível é 1.0 e pode ser negativa (porque o modelo pode ser arbitrariamente pior). \n",
    "#Um modelo constante que sempre prevê o valor esperado de y, desconsiderando os recursos de entrada,\n",
    "#obteria uma pontuação de R ^ 2 de 0,0\n",
    "from sklearn.metrics import r2_score\n",
    "r2_score(y_test, predictions)"
   ]
  },
  {
   "cell_type": "code",
   "execution_count": 43,
   "metadata": {},
   "outputs": [
    {
     "data": {
      "text/plain": [
       "-3.0"
      ]
     },
     "execution_count": 43,
     "metadata": {},
     "output_type": "execute_result"
    }
   ],
   "source": [
    "#Ex.\n",
    "y_true = [1,2,3]\n",
    "y_pred = [3,2,1]\n",
    "r2_score(y_true, y_pred)"
   ]
  }
 ],
 "metadata": {
  "kernelspec": {
   "display_name": "Python 3",
   "language": "python",
   "name": "python3"
  },
  "language_info": {
   "codemirror_mode": {
    "name": "ipython",
    "version": 3
   },
   "file_extension": ".py",
   "mimetype": "text/x-python",
   "name": "python",
   "nbconvert_exporter": "python",
   "pygments_lexer": "ipython3",
   "version": "3.7.1"
  }
 },
 "nbformat": 4,
 "nbformat_minor": 2
}
